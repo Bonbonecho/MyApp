{
 "cells": [
  {
   "cell_type": "code",
   "execution_count": 1,
   "metadata": {},
   "outputs": [
    {
     "ename": "SyntaxError",
     "evalue": "invalid character in identifier (<ipython-input-1-c7d826a87277>, line 10)",
     "output_type": "error",
     "traceback": [
      "\u001b[0;36m  File \u001b[0;32m\"<ipython-input-1-c7d826a87277>\"\u001b[0;36m, line \u001b[0;32m10\u001b[0m\n\u001b[0;31m    ‘fc-list :lang=zh -f \"%{family}\\n\"‘, shell=True)\u001b[0m\n\u001b[0m      ^\u001b[0m\n\u001b[0;31mSyntaxError\u001b[0m\u001b[0;31m:\u001b[0m invalid character in identifier\n"
     ]
    }
   ],
   "source": [
    "def dispFonts():\n",
    "    #显示可用的中文字体，同时支持英文的\n",
    "    from matplotlib.font_manager import FontManager\n",
    "    import subprocess\n",
    "\n",
    "    fm = FontManager()\n",
    "    mat_fonts = set(f.name for f in fm.ttflist)\n",
    "\n",
    "    output = subprocess.check_output(\n",
    "        ‘fc-list :lang=zh -f \"%{family}\\n\"‘, shell=True)\n",
    "    output = output.decode(‘utf-8‘)\n",
    "    # print ‘*‘ * 10, ‘系统可用的中文字体‘, ‘*‘ * 10\n",
    "    # print output\n",
    "    zh_fonts = set(f.split(‘,‘, 1)[0] for f in output.split(‘\\n‘))\n",
    "    available = mat_fonts & zh_fonts\n",
    "\n",
    "    print ‘*‘ * 10 +  u‘可用的中文字体‘+‘*‘ * 10\n",
    "    for f in available:\n",
    "        print(f)"
   ]
  }
 ],
 "metadata": {
  "kernelspec": {
   "display_name": "Python 3",
   "language": "python",
   "name": "python3"
  },
  "language_info": {
   "codemirror_mode": {
    "name": "ipython",
    "version": 3
   },
   "file_extension": ".py",
   "mimetype": "text/x-python",
   "name": "python",
   "nbconvert_exporter": "python",
   "pygments_lexer": "ipython3",
   "version": "3.6.3"
  }
 },
 "nbformat": 4,
 "nbformat_minor": 2
}
