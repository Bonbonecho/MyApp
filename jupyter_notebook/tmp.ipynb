{
 "cells": [
  {
   "cell_type": "code",
   "execution_count": 1,
   "metadata": {},
   "outputs": [
    {
     "name": "stdout",
     "output_type": "stream",
     "text": [
      "*****可用的中文字体*****\n",
      "Droid Sans Fallback\n"
     ]
    }
   ],
   "source": [
    "def dispFonts():\n",
    "    #显示可用的中文字体，同时支持英文的\n",
    "    from matplotlib.font_manager import FontManager\n",
    "    import subprocess\n",
    "\n",
    "    fm = FontManager()\n",
    "    mat_fonts = set(f.name for f in fm.ttflist)\n",
    "\n",
    "    output = subprocess.check_output(\n",
    "        'fc-list :lang=zh -f \"%{family}\\n\"', shell=True)\n",
    "    output = output.decode('utf-8')\n",
    "    # print ‘*‘ * 10, ‘系统可用的中文字体‘, ‘*‘ * 10\n",
    "    # print output\n",
    "    zh_fonts = set(f.split(',', 1)[0] for f in output.split('\\n'))\n",
    "    available = mat_fonts & zh_fonts\n",
    "\n",
    "    print('*' * 5 +  u'可用的中文字体'+'*' * 5)\n",
    "    for f in available:\n",
    "        print(f)\n",
    "dispFonts()"
   ]
  }
 ],
 "metadata": {
  "kernelspec": {
   "display_name": "Python 3",
   "language": "python",
   "name": "python3"
  },
  "language_info": {
   "codemirror_mode": {
    "name": "ipython",
    "version": 3
   },
   "file_extension": ".py",
   "mimetype": "text/x-python",
   "name": "python",
   "nbconvert_exporter": "python",
   "pygments_lexer": "ipython3",
   "version": "3.6.3"
  }
 },
 "nbformat": 4,
 "nbformat_minor": 2
}
