{
 "cells": [
  {
   "cell_type": "markdown",
   "metadata": {},
   "source": [
    "# [本文演示简单的SQL注入攻击](https://www.daniweb.com/programming/software-development/threads/485866/sql-injection-with-python#)\n",
    "\n",
    "## 何谓SQL注入？\n",
    "\n",
    "SQL注入是一种非常常见的数据库攻击手段，SQL注入漏洞也是网络世界中最普遍的漏洞之一。\n",
    "\n",
    "SQL数据库的操作是通过SQL语句来执行的，而无论是执行代码还是数据项都必须写在SQL语句之中，这就导致如果我们在数据项中加入了某些SQL语句关键字（比如说SELECT、DROP等等），这些关键字就很可能在数据库写入或读取数据时得到执行。\n",
    "\n",
    "下面我们先使用SQLite建立一个学生档案表。"
   ]
  },
  {
   "cell_type": "code",
   "execution_count": 3,
   "metadata": {},
   "outputs": [
    {
     "name": "stdout",
     "output_type": "stream",
     "text": [
      "ID\tName\n",
      "1\tPaul\n",
      "2\tTom\n",
      "3\tTracy\n",
      "4\tLily\n"
     ]
    }
   ],
   "source": [
    "import sqlite3\n",
    "\n",
    "# 连接数据库\n",
    "conn = sqlite3.connect('SQL-Injection-Attack.db')\n",
    "\n",
    "# 建立新的数据表\n",
    "conn.executescript('''DROP TABLE IF EXISTS students;\n",
    "       CREATE TABLE students\n",
    "       (id INTEGER PRIMARY KEY AUTOINCREMENT,\n",
    "       name TEXT(99) NOT NULL);''')\n",
    "\n",
    "# 插入学生信息\n",
    "students = ['Paul','Tom','Tracy','Lily']\n",
    "\n",
    "for name in students:\n",
    "    query = \"INSERT INTO students (name) VALUES ('%s')\" % (name)\n",
    "    conn.executescript(query);\n",
    "\n",
    "# 检视已有的学生信息\n",
    "cursor = conn.execute(\"SELECT id, name from students\")\n",
    "print('ID\\tName')\n",
    "for row in cursor:\n",
    "    print('{0}\\t{1}'.format(row[0], row[1]))\n",
    "\n",
    "conn.close()"
   ]
  },
  {
   "cell_type": "markdown",
   "metadata": {},
   "source": [
    "上述程序中我们建立了一个test.db数据库以及一个students数据表，并向表中写入了四条学生信息。如果后续不慎删除了表格，也可以重新执行这段代码。\n",
    "\n",
    "那么SQL注入又是怎么一回事呢？我们尝试再插入一条恶意数据，数据内容就是\"Robert');DROP TABLE students;--\"，看看会发生什么情况。"
   ]
  },
  {
   "cell_type": "code",
   "execution_count": 2,
   "metadata": {},
   "outputs": [
    {
     "name": "stdout",
     "output_type": "stream",
     "text": [
      "即将执行的SQL代码为： INSERT INTO students (name) VALUES ('Robert');DROP TABLE students;--')\n"
     ]
    },
    {
     "ename": "OperationalError",
     "evalue": "no such table: students",
     "output_type": "error",
     "traceback": [
      "\u001b[0;31m---------------------------------------------------------------------------\u001b[0m",
      "\u001b[0;31mOperationalError\u001b[0m                          Traceback (most recent call last)",
      "\u001b[0;32m<ipython-input-2-aa5b7941ebe3>\u001b[0m in \u001b[0;36m<module>\u001b[0;34m()\u001b[0m\n\u001b[1;32m      8\u001b[0m \u001b[0;34m\u001b[0m\u001b[0m\n\u001b[1;32m      9\u001b[0m \u001b[0;31m# 检视已有的学生信息\u001b[0m\u001b[0;34m\u001b[0m\u001b[0;34m\u001b[0m\u001b[0m\n\u001b[0;32m---> 10\u001b[0;31m \u001b[0mcursor\u001b[0m \u001b[0;34m=\u001b[0m \u001b[0mconn\u001b[0m\u001b[0;34m.\u001b[0m\u001b[0mexecute\u001b[0m\u001b[0;34m(\u001b[0m\u001b[0;34m\"SELECT id, name from students\"\u001b[0m\u001b[0;34m)\u001b[0m\u001b[0;34m\u001b[0m\u001b[0m\n\u001b[0m\u001b[1;32m     11\u001b[0m \u001b[0mprint\u001b[0m\u001b[0;34m(\u001b[0m\u001b[0;34m'ID\\tName'\u001b[0m\u001b[0;34m)\u001b[0m\u001b[0;34m\u001b[0m\u001b[0m\n\u001b[1;32m     12\u001b[0m \u001b[0;32mfor\u001b[0m \u001b[0mrow\u001b[0m \u001b[0;32min\u001b[0m \u001b[0mcursor\u001b[0m\u001b[0;34m:\u001b[0m\u001b[0;34m\u001b[0m\u001b[0m\n",
      "\u001b[0;31mOperationalError\u001b[0m: no such table: students"
     ]
    }
   ],
   "source": [
    "conn = sqlite3.connect('SQL-Injection-Attack.db')\n",
    "\n",
    "# 插入包含注入代码的信息\n",
    "name = \"Robert');DROP TABLE students;--\"\n",
    "query = \"INSERT INTO students (name) VALUES ('%s')\" % (name)\n",
    "print('即将执行的SQL代码为：',query)\n",
    "conn.executescript(query)\n",
    "\n",
    "# 检视已有的学生信息\n",
    "cursor = conn.execute(\"SELECT id, name from students\")\n",
    "print('ID\\tName')\n",
    "for row in cursor:\n",
    "    print('{0}\\t{1}'.format(row[0], row[1]))\n",
    "\n",
    "conn.close()"
   ]
  },
  {
   "cell_type": "markdown",
   "metadata": {},
   "source": [
    "你将会发现，运行后，程序没有输出任何数据内容，而是返回一条错误信息：表单students无法找到！（OperationalError: no such table: students）"
   ]
  },
  {
   "cell_type": "markdown",
   "metadata": {},
   "source": [
    "这是为什么呢？问题就在于我们所插入的数据项中包含SQL关键字DROP TABLE，这两个关键字的意义是从数据库中清除一个表单。而关键字之前的Robert');使得SQL执行器认为上一命令已经结束，从而使得危险指令DROP TABLE得到执行。也就是说，这段包含DROP TABLE关键字的数据项使得原有的简单的插入姓名信息的SQL语句\n",
    "\n",
    "\"INSERT INTO students (name) VALUES ('Robert')\"\n",
    "\n",
    "变为了同时包含另外一条清除表单命令的语句\n",
    "\n",
    "\"INSERT INTO students (name) VALUES ('Robert');DROP TABLE students;--\"\n",
    "\n",
    "而SQL数据库执行上述操作后，students表单被清除，因而表单无法找到，所有数据项丢失。\n",
    "\n",
    "# 如何防止SQL注入问题\n",
    "\n",
    "那么，如何防止SQL注入问题呢？\n",
    "\n",
    "大家也许都想到了，注入问题都是因为执行了数据项中的SQL关键字，那么，只要检查数据项中是否存在SQL关键字不就可以了么？的确是这样，很多数据库管理系统都是采取了这种看似『方便快捷』的过滤手法，但是这并不是一种根本上的解决办法，如果有个美国人真的就叫做『Drop Table』呢？你总不能逼人家改名字吧。\n",
    "\n",
    "1. 原则1：永远不要相信用户提供的数据。\n",
    "2. 原则2：转义字符"
   ]
  },
  {
   "cell_type": "code",
   "execution_count": 4,
   "metadata": {},
   "outputs": [
    {
     "name": "stdout",
     "output_type": "stream",
     "text": [
      "用户名必须符合字母数字字符加下划线和8到20个字符之间\n"
     ]
    }
   ],
   "source": [
    "# 原则1：永远不要相信用户提供的数据。在下面的例子中，用户名被限制为字母数字字符加下划线和8到20个字符之间的长度\n",
    "conn = sqlite3.connect('SQL-Injection-Attack.db')\n",
    "\n",
    "import re\n",
    "# 将正则表达式编译成Pattern对象\n",
    "pattern = re.compile(r'^\\w{8,20}$')\n",
    "\n",
    "name = \"Robert');DROP TABLE students;--\"\n",
    "if pattern.match('name'):\n",
    "    print('即将执行的SQL代码为：',query)\n",
    "    conn.executescript(query)\n",
    "else:\n",
    "    print('用户名必须符合字母数字字符加下划线和8到20个字符之间')"
   ]
  },
  {
   "cell_type": "code",
   "execution_count": 5,
   "metadata": {},
   "outputs": [
    {
     "name": "stdout",
     "output_type": "stream",
     "text": [
      "b'Um9iZXJ0Jyk7RFJPUCBUQUJMRSBzdHVkZW50czstLQ=='\n",
      "即将执行的SQL代码为： INSERT INTO students (name) VALUES ('Um9iZXJ0Jyk7RFJPUCBUQUJMRSBzdHVkZW50czstLQ==')\n",
      "ID\tName\n",
      "1\tPaul\n",
      "2\tTom\n",
      "3\tTracy\n",
      "4\tLily\n",
      "5\tUm9iZXJ0Jyk7RFJPUCBUQUJMRSBzdHVkZW50czstLQ==\n",
      "b\"Robert');DROP TABLE students;--\"\n"
     ]
    }
   ],
   "source": [
    "# 原则2：转义字符。在下面的例子中，用户名被base64编码，以确保不会出现奇奇怪怪的东西\n",
    "conn = sqlite3.connect('SQL-Injection-Attack.db')\n",
    "\n",
    "import base64\n",
    "\n",
    "name = \"Robert');DROP TABLE students;--\".encode()\n",
    "name = base64.b64encode(name)\n",
    "print(name)\n",
    "query = \"INSERT INTO students (name) VALUES ('%s')\" % (name.decode('utf-8'))\n",
    "print('即将执行的SQL代码为：',query)\n",
    "conn.executescript(query)\n",
    "\n",
    "# 检视已有的学生信息\n",
    "cursor = conn.execute(\"SELECT id, name from students\")\n",
    "print('ID\\tName')\n",
    "for row in cursor:\n",
    "    print('{0}\\t{1}'.format(row[0], row[1]))\n",
    "\n",
    "# 在此情况下，输出需要base64进行解码，否则输出为乱码\n",
    "print(base64.b64decode(row[1]))\n",
    "conn.close()"
   ]
  }
 ],
 "metadata": {
  "kernelspec": {
   "display_name": "Python 3",
   "language": "python",
   "name": "python3"
  },
  "language_info": {
   "codemirror_mode": {
    "name": "ipython",
    "version": 3
   },
   "file_extension": ".py",
   "mimetype": "text/x-python",
   "name": "python",
   "nbconvert_exporter": "python",
   "pygments_lexer": "ipython3",
   "version": "3.6.3"
  }
 },
 "nbformat": 4,
 "nbformat_minor": 2
}
