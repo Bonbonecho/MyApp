{
 "cells": [
  {
   "cell_type": "markdown",
   "metadata": {},
   "source": [
    "# 如何用Python提取中文关键词？\n",
    "本文一步步为你演示，如何用Python从中文文本中提取关键词。如果你需要对长文“观其大略”，不妨尝试一下。(单一文本关键词的提取方法)"
   ]
  },
  {
   "cell_type": "code",
   "execution_count": 1,
   "metadata": {},
   "outputs": [],
   "source": [
    "from jieba.analyse import *\n",
    "with open('../docs/JD新零售-资料收集.txt') as f:\n",
    "    data = f.read()"
   ]
  },
  {
   "cell_type": "markdown",
   "metadata": {},
   "source": [
    "分别使用TF-idf、TextRank方式提取关键词和权重，并且依次显示出来。（如果你不做特殊指定的话，默认显示数量为20个关键词）"
   ]
  },
  {
   "cell_type": "code",
   "execution_count": 2,
   "metadata": {},
   "outputs": [
    {
     "name": "stderr",
     "output_type": "stream",
     "text": [
      "Building prefix dict from the default dictionary ...\n",
      "Dumping model to file cache /tmp/jieba.cache\n",
      "Loading model cost 2.160 seconds.\n",
      "Prefix dict has been built succesfully.\n"
     ]
    },
    {
     "name": "stdout",
     "output_type": "stream",
     "text": [
      "京东 0.2871547024816984\n",
      "零售 0.2639121225540556\n",
      "电商 0.0899797931149341\n",
      "消费者 0.08866256566222547\n",
      "线下 0.07255998247005857\n",
      "场景 0.07138617370216692\n",
      "用户 0.06992145315803808\n",
      "刘强 0.0635792399080527\n",
      "商品 0.061904399867642755\n",
      "革命 0.0567277260284041\n",
      "效率 0.05029798492144948\n",
      "模型 0.0498397067057101\n",
      "更好 0.04715053357049781\n",
      "体验 0.04353135534916545\n",
      "基础设施 0.04268601239906296\n",
      "数据 0.042003133338711564\n",
      "不是 0.03884139239106882\n",
      "画像 0.03805667213389459\n",
      "门店 0.03776298423390922\n",
      "而是 0.03773963376193265\n"
     ]
    }
   ],
   "source": [
    "for keyword, weight in extract_tags(data, withWeight=True):\n",
    "    print('%s %s' % (keyword, weight))"
   ]
  },
  {
   "cell_type": "code",
   "execution_count": 3,
   "metadata": {},
   "outputs": [
    {
     "name": "stdout",
     "output_type": "stream",
     "text": [
      "零售 1.0\n",
      "京东 0.9040832189627115\n",
      "消费者 0.5794966443688391\n",
      "商品 0.45427088036398805\n",
      "革命 0.38631650692968517\n",
      "模型 0.35034934825413866\n",
      "数据 0.3434238926605811\n",
      "场景 0.3152169004696235\n",
      "线下 0.3014798361060339\n",
      "用户 0.2866033092154284\n",
      "电商 0.24634583071698277\n",
      "提升 0.23648659613330122\n",
      "平台 0.23229211847334308\n",
      "市场 0.22273509186748008\n",
      "效率 0.21393723217277688\n",
      "选择 0.21152915296640865\n",
      "因子 0.20004448868567612\n",
      "核心 0.19349603426957857\n",
      "进行 0.19274756198248236\n",
      "公司 0.18500755488296933\n"
     ]
    }
   ],
   "source": [
    "for keyword, weight in textrank(data, withWeight=True):\n",
    "    print('%s %s' % (keyword, weight))"
   ]
  },
  {
   "cell_type": "markdown",
   "metadata": {},
   "source": [
    "### 原理\n",
    "\n",
    "我们简要讲解一下，前文出现的2种不同关键词提取方式——TF-idf和TextRank的基本原理。\n",
    "\n",
    "为了不让大家感到枯燥，这里咱们就不使用数学公式了。后文我会给出相关的资料链接。如果你对细节感兴趣，欢迎按图索骥，查阅学习。\n",
    "\n",
    "先说TF-idf。\n",
    "\n",
    "它的全称是 Term Frequency - inverse document frequency。中间有个连字符，左右两侧各是一部分，共同结合起来，决定某个词的重要程度。\n",
    "\n",
    "第一部分，就是词频（Term Frequency），即某个词语出现的频率。\n",
    "\n",
    "我们常说“重要的事说三遍”。\n",
    "\n",
    "同样的道理，某个词语出现的次数多，也就说明这个词语重要性可能会很高。\n",
    "\n",
    "但是，这只是可能性，并不绝对。\n",
    "\n",
    "例如现代汉语中的许多虚词——“的，地，得”，古汉语中的许多句尾词“之、乎、者、也、兮”，这些词在文中可能出现许多次，但是它们显然不是关键词。\n",
    "\n",
    "这就是为什么我们在判断关键词的时候，需要第二部分（idf）配合。\n",
    "\n",
    "逆文档频率（inverse document frequency）首先计算某个词在各文档中出现的频率。假设一共有10篇文档，其中某个词A在其中10篇文章中都出先过，另一个词B只在其中3篇文中出现。请问哪一个词更关键？\n",
    "\n",
    "给你一分钟思考一下，然后继续读。\n",
    "\n",
    "公布答案时间到。\n",
    "\n",
    "答案是B更关键。\n",
    "\n",
    "A可能就是虚词，或者全部文档共享的主题词。而B只在3篇文档中出现，因此很有可能是个关键词。\n",
    "\n",
    "逆文档频率就是把这种文档频率取倒数。这样第一部分和第二部分都是越高越好。二者都高，就很有可能是关键词了。\n",
    "\n",
    "TF-idf讲完了，下面我们说说TextRank。\n",
    "\n",
    "相对于TF-idf，TextRank要显得更加复杂一些。它不是简单做加减乘除运算，而是基于图的计算。\n",
    "\n",
    "文章来源：https://zhuanlan.zhihu.com/p/31870596?group_id=923093802266013696"
   ]
  }
 ],
 "metadata": {
  "kernelspec": {
   "display_name": "Python 3",
   "language": "python",
   "name": "python3"
  },
  "language_info": {
   "codemirror_mode": {
    "name": "ipython",
    "version": 3
   },
   "file_extension": ".py",
   "mimetype": "text/x-python",
   "name": "python",
   "nbconvert_exporter": "python",
   "pygments_lexer": "ipython3",
   "version": "3.6.3"
  }
 },
 "nbformat": 4,
 "nbformat_minor": 2
}
